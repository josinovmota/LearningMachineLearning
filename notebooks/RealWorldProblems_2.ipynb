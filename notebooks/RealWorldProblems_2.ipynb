{
 "cells": [
  {
   "cell_type": "code",
   "execution_count": 1,
   "metadata": {},
   "outputs": [],
   "source": [
    "from bs4 import BeautifulSoup as bs\n",
    "import requests"
   ]
  },
  {
   "cell_type": "code",
   "execution_count": 80,
   "metadata": {},
   "outputs": [
    {
     "name": "stdout",
     "output_type": "stream",
     "text": [
      "Toy Story 3\n"
     ]
    },
    {
     "ename": "AttributeError",
     "evalue": "'NoneType' object has no attribute 'get_text'",
     "output_type": "error",
     "traceback": [
      "\u001b[1;31m---------------------------------------------------------------------------\u001b[0m",
      "\u001b[1;31mAttributeError\u001b[0m                            Traceback (most recent call last)",
      "\u001b[1;32mc:\\Users\\T-GAMER\\Desktop\\LearningMachineLearning\\notebooks\\RealWorldProblems_2.ipynb Cell 2\u001b[0m in \u001b[0;36m<cell line: 9>\u001b[1;34m()\u001b[0m\n\u001b[0;32m      <a href='vscode-notebook-cell:/c%3A/Users/T-GAMER/Desktop/LearningMachineLearning/notebooks/RealWorldProblems_2.ipynb#W1sZmlsZQ%3D%3D?line=6'>7</a>\u001b[0m dicionariolegal \u001b[39m=\u001b[39m {}\n\u001b[0;32m      <a href='vscode-notebook-cell:/c%3A/Users/T-GAMER/Desktop/LearningMachineLearning/notebooks/RealWorldProblems_2.ipynb#W1sZmlsZQ%3D%3D?line=8'>9</a>\u001b[0m \u001b[39mfor\u001b[39;00m row \u001b[39min\u001b[39;00m soup:\n\u001b[1;32m---> <a href='vscode-notebook-cell:/c%3A/Users/T-GAMER/Desktop/LearningMachineLearning/notebooks/RealWorldProblems_2.ipynb#W1sZmlsZQ%3D%3D?line=9'>10</a>\u001b[0m     newrow \u001b[39m=\u001b[39m row\u001b[39m.\u001b[39;49mfind(\u001b[39m'\u001b[39;49m\u001b[39mth\u001b[39;49m\u001b[39m'\u001b[39;49m)\u001b[39m.\u001b[39;49mget_text()\n\u001b[0;32m     <a href='vscode-notebook-cell:/c%3A/Users/T-GAMER/Desktop/LearningMachineLearning/notebooks/RealWorldProblems_2.ipynb#W1sZmlsZQ%3D%3D?line=10'>11</a>\u001b[0m     \u001b[39mprint\u001b[39m(newrow)\n",
      "\u001b[1;31mAttributeError\u001b[0m: 'NoneType' object has no attribute 'get_text'"
     ]
    }
   ],
   "source": [
    "r = requests.get(\"https://en.wikipedia.org/wiki/Toy_Story_3\")\n",
    "\n",
    "soup = bs(r.content)\n",
    "soup = soup.find(class_=\"infobox vevent\")\n",
    "soup = soup.find_all('tr')\n",
    "\n",
    "dicionariolegal = {}\n",
    "\n",
    "for row in soup:\n",
    "    newrow = row.find('th').get_text()\n",
    "    print(newrow.get_text())"
   ]
  }
 ],
 "metadata": {
  "kernelspec": {
   "display_name": "base",
   "language": "python",
   "name": "python3"
  },
  "language_info": {
   "codemirror_mode": {
    "name": "ipython",
    "version": 3
   },
   "file_extension": ".py",
   "mimetype": "text/x-python",
   "name": "python",
   "nbconvert_exporter": "python",
   "pygments_lexer": "ipython3",
   "version": "3.9.12"
  },
  "orig_nbformat": 4,
  "vscode": {
   "interpreter": {
    "hash": "d80e10819e2637787e1c1b795c4b133d8f5e03cb4921dcc026e8408dfcbb81da"
   }
  }
 },
 "nbformat": 4,
 "nbformat_minor": 2
}
